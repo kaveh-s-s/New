{
 "cells": [
  {
   "cell_type": "code",
   "execution_count": 1,
   "metadata": {},
   "outputs": [],
   "source": [
    "import datetime\n",
    "from math import *\n",
    "import csv\n",
    "import pandas as pd \n",
    "import qgrid\n",
    "import matplotlib.pyplot as plt"
   ]
  },
  {
   "cell_type": "markdown",
   "metadata": {},
   "source": [
    "Results are in local time not UT"
   ]
  },
  {
   "cell_type": "code",
   "execution_count": 2,
   "metadata": {},
   "outputs": [],
   "source": [
    "dates = datetime.datetime(2019,6,1,0,0,0)\n",
    "EndDate = datetime.datetime(2020,6,1,0,0,0)"
   ]
  },
  {
   "cell_type": "code",
   "execution_count": 3,
   "metadata": {},
   "outputs": [],
   "source": [
    "results = []\n",
    "while dates<EndDate:\n",
    "    if (dates>= datetime.datetime(2019,10,27)) and (dates< datetime.datetime(2020,3,29)):\n",
    "        time_difference_to_UTC = 0\n",
    "    else:\n",
    "        time_difference_to_UTC = 1\n",
    "    \n",
    "    GHI = 0\n",
    "    time_in_secs = dates.hour*3600\n",
    "\n",
    "    d = dates.timetuple().tm_yday\n",
    "\n",
    "    B = (360*(d-81))/365\n",
    "    declination_angle = 23.45 * sin(radians(B))\n",
    "\n",
    "    EoT = 9.87*sin(radians(2*B)) - 7.53*cos(radians(B))-1.5*sin(radians(B))\n",
    "\n",
    "    LSTM = 15 * time_difference_to_UTC\n",
    "\n",
    "    longitude = 6.1753115\n",
    "    latitude = 52.6774361\n",
    "\n",
    "    TC = 4*(longitude-LSTM)+EoT\n",
    "    LST = dates + datetime.timedelta(hours=(TC/60))\n",
    "    HRA = 15*(LST.hour+(LST.minute/60)-12)\n",
    "    alpha = degrees(asin(sin(radians(latitude))*sin(radians(declination_angle))+cos(radians(declination_angle))*cos(radians(latitude))*cos(radians(HRA))))\n",
    "\n",
    "\n",
    "    sunrise = 12 - (1/15)*degrees(acos(-1*tan(radians(latitude))*tan(radians(declination_angle))))- (TC/60)\n",
    "    sunset = 12 +  (1/15)*degrees(acos(-1*tan(radians(latitude))*tan(radians(declination_angle))))- (TC/60)\n",
    "\n",
    "    try:\n",
    "        Azimuth_raw = degrees(acos((sin(radians(declination_angle))*cos(radians(latitude))-cos(radians(declination_angle))*sin(radians(latitude))*cos(radians(HRA)))/cos(radians(alpha))))\n",
    "    except:\n",
    "        Azimuth_raw = 180\n",
    "    if HRA >= 0:\n",
    "        Azimuth = 360 - Azimuth_raw\n",
    "    else:\n",
    "        Azimuth = Azimuth_raw\n",
    "\n",
    "    results.append([dates,sunrise,sunset,alpha,Azimuth])\n",
    "    dates = dates+ datetime.timedelta(0,3600)\n",
    "    \n",
    "df = pd.DataFrame(results,columns=['Date','Sunrise','Sunset','Alpha','Azimuth'])\n",
    "df = df.set_index('Date')"
   ]
  },
  {
   "cell_type": "code",
   "execution_count": 4,
   "metadata": {},
   "outputs": [
    {
     "data": {
      "application/vnd.jupyter.widget-view+json": {
       "model_id": "dde6f00709994408b11f93fd19fb3e5b",
       "version_major": 2,
       "version_minor": 0
      },
      "text/plain": [
       "QgridWidget(grid_options={'fullWidthRows': True, 'syncColumnCellResize': True, 'forceFitColumns': True, 'defau…"
      ]
     },
     "metadata": {},
     "output_type": "display_data"
    }
   ],
   "source": [
    "qgrid.show_grid(df)"
   ]
  },
  {
   "cell_type": "code",
   "execution_count": 5,
   "metadata": {},
   "outputs": [
    {
     "data": {
      "text/plain": [
       "<matplotlib.axes._subplots.AxesSubplot at 0xb116d30>"
      ]
     },
     "execution_count": 5,
     "metadata": {},
     "output_type": "execute_result"
    },
    {
     "data": {
      "image/png": "[encoded data removed]",
      "text/plain": [
       "<Figure size 432x288 with 1 Axes>"
      ]
     },
     "metadata": {
      "needs_background": "light"
     },
     "output_type": "display_data"
    }
   ],
   "source": [
    "df['Azimuth'].plot()"
   ]
  },
  {
   "cell_type": "markdown",
   "metadata": {},
   "source": [
    "Will set all Alphas below 0 to 0"
   ]
  },
  {
   "cell_type": "code",
   "execution_count": 6,
   "metadata": {},
   "outputs": [],
   "source": [
    " df.loc[df['Alpha']<0,['Alpha','Azimuth']] = 0"
   ]
  },
  {
   "cell_type": "code",
   "execution_count": 7,
   "metadata": {},
   "outputs": [
    {
     "data": {
      "text/html": [
       "<div>\n",
       "<style scoped>\n",
       "    .dataframe tbody tr th:only-of-type {\n",
       "        vertical-align: middle;\n",
       "    }\n",
       "\n",
       "    .dataframe tbody tr th {\n",
       "        vertical-align: top;\n",
       "    }\n",
       "\n",
       "    .dataframe thead th {\n",
       "        text-align: right;\n",
       "    }\n",
       "</style>\n",
       "<table border=\"1\" class=\"dataframe\">\n",
       "  <thead>\n",
       "    <tr style=\"text-align: right;\">\n",
       "      <th></th>\n",
       "      <th>Sunrise</th>\n",
       "      <th>Sunset</th>\n",
       "      <th>Alpha</th>\n",
       "      <th>Azimuth</th>\n",
       "    </tr>\n",
       "    <tr>\n",
       "      <th>Date</th>\n",
       "      <th></th>\n",
       "      <th></th>\n",
       "      <th></th>\n",
       "      <th></th>\n",
       "    </tr>\n",
       "  </thead>\n",
       "  <tbody>\n",
       "    <tr>\n",
       "      <th>2019-06-01 00:00:00</th>\n",
       "      <td>4.410933</td>\n",
       "      <td>20.687183</td>\n",
       "      <td>0.000000</td>\n",
       "      <td>0.000000</td>\n",
       "    </tr>\n",
       "    <tr>\n",
       "      <th>2019-06-01 01:00:00</th>\n",
       "      <td>4.410933</td>\n",
       "      <td>20.687183</td>\n",
       "      <td>0.000000</td>\n",
       "      <td>0.000000</td>\n",
       "    </tr>\n",
       "    <tr>\n",
       "      <th>2019-06-01 02:00:00</th>\n",
       "      <td>4.410933</td>\n",
       "      <td>20.687183</td>\n",
       "      <td>0.000000</td>\n",
       "      <td>0.000000</td>\n",
       "    </tr>\n",
       "    <tr>\n",
       "      <th>2019-06-01 03:00:00</th>\n",
       "      <td>4.410933</td>\n",
       "      <td>20.687183</td>\n",
       "      <td>0.000000</td>\n",
       "      <td>0.000000</td>\n",
       "    </tr>\n",
       "    <tr>\n",
       "      <th>2019-06-01 04:00:00</th>\n",
       "      <td>4.410933</td>\n",
       "      <td>20.687183</td>\n",
       "      <td>0.000000</td>\n",
       "      <td>0.000000</td>\n",
       "    </tr>\n",
       "    <tr>\n",
       "      <th>...</th>\n",
       "      <td>...</td>\n",
       "      <td>...</td>\n",
       "      <td>...</td>\n",
       "      <td>...</td>\n",
       "    </tr>\n",
       "    <tr>\n",
       "      <th>2020-05-31 19:00:00</th>\n",
       "      <td>4.410933</td>\n",
       "      <td>20.687183</td>\n",
       "      <td>13.435731</td>\n",
       "      <td>288.844009</td>\n",
       "    </tr>\n",
       "    <tr>\n",
       "      <th>2020-05-31 20:00:00</th>\n",
       "      <td>4.410933</td>\n",
       "      <td>20.687183</td>\n",
       "      <td>5.172714</td>\n",
       "      <td>300.179248</td>\n",
       "    </tr>\n",
       "    <tr>\n",
       "      <th>2020-05-31 21:00:00</th>\n",
       "      <td>4.410933</td>\n",
       "      <td>20.687183</td>\n",
       "      <td>0.000000</td>\n",
       "      <td>0.000000</td>\n",
       "    </tr>\n",
       "    <tr>\n",
       "      <th>2020-05-31 22:00:00</th>\n",
       "      <td>4.410933</td>\n",
       "      <td>20.687183</td>\n",
       "      <td>0.000000</td>\n",
       "      <td>0.000000</td>\n",
       "    </tr>\n",
       "    <tr>\n",
       "      <th>2020-05-31 23:00:00</th>\n",
       "      <td>4.410933</td>\n",
       "      <td>20.687183</td>\n",
       "      <td>0.000000</td>\n",
       "      <td>0.000000</td>\n",
       "    </tr>\n",
       "  </tbody>\n",
       "</table>\n",
       "<p>8784 rows × 4 columns</p>\n",
       "</div>"
      ],
      "text/plain": [
       "                      Sunrise     Sunset      Alpha     Azimuth\n",
       "Date                                                           \n",
       "2019-06-01 00:00:00  4.410933  20.687183   0.000000    0.000000\n",
       "2019-06-01 01:00:00  4.410933  20.687183   0.000000    0.000000\n",
       "2019-06-01 02:00:00  4.410933  20.687183   0.000000    0.000000\n",
       "2019-06-01 03:00:00  4.410933  20.687183   0.000000    0.000000\n",
       "2019-06-01 04:00:00  4.410933  20.687183   0.000000    0.000000\n",
       "...                       ...        ...        ...         ...\n",
       "2020-05-31 19:00:00  4.410933  20.687183  13.435731  288.844009\n",
       "2020-05-31 20:00:00  4.410933  20.687183   5.172714  300.179248\n",
       "2020-05-31 21:00:00  4.410933  20.687183   0.000000    0.000000\n",
       "2020-05-31 22:00:00  4.410933  20.687183   0.000000    0.000000\n",
       "2020-05-31 23:00:00  4.410933  20.687183   0.000000    0.000000\n",
       "\n",
       "[8784 rows x 4 columns]"
      ]
     },
     "execution_count": 7,
     "metadata": {},
     "output_type": "execute_result"
    }
   ],
   "source": [
    "df"
   ]
  },
  {
   "cell_type": "code",
   "execution_count": 8,
   "metadata": {},
   "outputs": [
    {
     "data": {
      "text/plain": [
       "<matplotlib.axes._subplots.AxesSubplot at 0xd25a4f0>"
      ]
     },
     "execution_count": 8,
     "metadata": {},
     "output_type": "execute_result"
    },
    {
     "data": {
      "image/png": "[encoded data removed]",
      "text/plain": [
       "<Figure size 432x288 with 1 Axes>"
      ]
     },
     "metadata": {
      "needs_background": "light"
     },
     "output_type": "display_data"
    }
   ],
   "source": [
    "df['Alpha'].plot()"
   ]
  },
  {
   "cell_type": "code",
   "execution_count": 9,
   "metadata": {},
   "outputs": [
    {
     "data": {
      "text/plain": [
       "<matplotlib.collections.PathCollection at 0xd509fb0>"
      ]
     },
     "execution_count": 9,
     "metadata": {},
     "output_type": "execute_result"
    },
    {
     "data": {
      "image/png": "[encoded data removed]",
      "text/plain": [
       "<Figure size 432x288 with 1 Axes>"
      ]
     },
     "metadata": {
      "needs_background": "light"
     },
     "output_type": "display_data"
    }
   ],
   "source": [
    "dff = df[df['Alpha']>0]\n",
    "plt.scatter(dff['Azimuth'],dff['Alpha'])"
   ]
  },
  {
   "cell_type": "code",
   "execution_count": null,
   "metadata": {},
   "outputs": [],
   "source": []
  }
 ],
 "metadata": {
  "kernelspec": {
   "display_name": "Python 3",
   "language": "python",
   "name": "python3"
  },
  "language_info": {
   "codemirror_mode": {
    "name": "ipython",
    "version": 3
   },
   "file_extension": ".py",
   "mimetype": "text/x-python",
   "name": "python",
   "nbconvert_exporter": "python",
   "pygments_lexer": "ipython3",
   "version": "3.7.3"
  }
 },
 "nbformat": 4,
 "nbformat_minor": 2
}
